{
  "nbformat": 4,
  "nbformat_minor": 0,
  "metadata": {
    "colab": {
      "provenance": [],
      "include_colab_link": true
    },
    "kernelspec": {
      "name": "python3",
      "display_name": "Python 3"
    },
    "language_info": {
      "name": "python"
    }
  },
  "cells": [
    {
      "cell_type": "markdown",
      "metadata": {
        "id": "view-in-github",
        "colab_type": "text"
      },
      "source": [
        "<a href=\"https://colab.research.google.com/github/AzitaKalantar/NLP-Projects/blob/main/Sentiment%20and%20Emotion%20Detector%20using%20ISEAR%20dataset/version2_tf_idf_NN.ipynb\" target=\"_parent\"><img src=\"https://colab.research.google.com/assets/colab-badge.svg\" alt=\"Open In Colab\"/></a>"
      ]
    },
    {
      "cell_type": "markdown",
      "source": [
        "### Building an Emotion Classifier Model"
      ],
      "metadata": {
        "id": "5avqHIhDEjOF"
      }
    },
    {
      "cell_type": "markdown",
      "source": [
        "Extracting Data"
      ],
      "metadata": {
        "id": "hcHPIZhWaMKv"
      }
    },
    {
      "cell_type": "code",
      "source": [
        "from google.colab import drive\n",
        "drive.mount('/content/drive')"
      ],
      "metadata": {
        "colab": {
          "base_uri": "https://localhost:8080/"
        },
        "id": "Ur482SwREnJQ",
        "outputId": "a99484a3-1701-4f0b-e484-f5b9e4119537"
      },
      "execution_count": null,
      "outputs": [
        {
          "output_type": "stream",
          "name": "stdout",
          "text": [
            "Mounted at /content/drive\n"
          ]
        }
      ]
    },
    {
      "cell_type": "code",
      "source": [
        "import pandas as pd\n",
        "train_data = pd.read_csv('drive/My Drive/Data/ISEAR/data_train.csv')\n",
        "test_data = pd.read_csv('drive/My Drive/Data/ISEAR/data_test.csv')"
      ],
      "metadata": {
        "id": "NeXd8pjgaRFk"
      },
      "execution_count": null,
      "outputs": []
    },
    {
      "cell_type": "code",
      "source": [
        "train_data.columns = [\"Emotion\",\"Text\"]\n",
        "test_data.columns = [\"Emotion\",\"Text\"]\n",
        "print(train_data.head())\n",
        "print(test_data.head())"
      ],
      "metadata": {
        "colab": {
          "base_uri": "https://localhost:8080/"
        },
        "id": "pgP7YEyJa7JO",
        "outputId": "42377a85-c1b5-4992-8ad0-5aad5267348f"
      },
      "execution_count": null,
      "outputs": [
        {
          "output_type": "stream",
          "name": "stdout",
          "text": [
            "   Emotion                                               Text\n",
            "0  neutral   There are tons of other paintings that I thin...\n",
            "1  sadness  Yet the dog had grown old and less capable , a...\n",
            "2     fear  When I get into the tube or the train without ...\n",
            "3     fear  This last may be a source of considerable disq...\n",
            "4    anger  She disliked the intimacy he showed towards so...\n",
            "   Emotion                                               Text\n",
            "0  sadness  I experienced this emotion when my grandfather...\n",
            "1  neutral   when I first moved in , I walked everywhere ....\n",
            "2    anger  ` Oh ! \" she bleated , her voice high and rath...\n",
            "3     fear  However , does the right hon. Gentleman recogn...\n",
            "4  sadness  My boyfriend didn't turn up after promising th...\n"
          ]
        }
      ]
    },
    {
      "cell_type": "markdown",
      "source": [
        "Data Cleaning and Preprocessing"
      ],
      "metadata": {
        "id": "v2aj8iFRbaDY"
      }
    },
    {
      "cell_type": "code",
      "source": [
        "from nltk.corpus import stopwords\n",
        "from textblob import TextBlob\n",
        "from nltk.stem import PorterStemmer"
      ],
      "metadata": {
        "id": "KoVXJhhTdVzT"
      },
      "execution_count": null,
      "outputs": []
    },
    {
      "cell_type": "code",
      "source": [
        "def preprocess_data(data):\n",
        "  #make the text lower case\n",
        "  data['Text'] = data['Text'].apply(lambda a: \" \".join(a.lower() for a in a.split()))\n",
        "  #remove non-word characters (^\\w) or white space characters (\\s)\n",
        "  data['Text'] = data['Text'].apply(lambda a: \" \".join(a.replace('[^\\w\\s]','') for a in a.split()))\n",
        "  #remove stop words\n",
        "  stop = stopwords.words('english')\n",
        "  data['Text'] = data['Text'].apply(lambda a: \" \".join(a for a in a.split() if a not in stop))\n",
        "  #correct spelling\n",
        "  data['Text'] = data['Text'].apply(lambda a: str(TextBlob(a).correct()))\n",
        "  #do stemming\n",
        "  st = PorterStemmer()\n",
        "  data['Text'] =  data['Text'].apply(lambda a: \" \".join([st.stem(word) for word in a.split()]))\n",
        "  return data\n",
        "\n",
        "\n",
        "train_data = preprocess_data(train_data)\n",
        "test_data = preprocess_data(test_data)\n",
        "print(train_data.head())\n",
        "print(test_data.head())"
      ],
      "metadata": {
        "colab": {
          "base_uri": "https://localhost:8080/",
          "height": 206
        },
        "id": "Xb8spkxZbbUt",
        "outputId": "a02d10f3-7361-407c-f699-e5b7987a0c39"
      },
      "execution_count": null,
      "outputs": [
        {
          "output_type": "execute_result",
          "data": {
            "text/plain": [
              "   Emotion                                               Text\n",
              "0  neutral                           ton paint think better .\n",
              "1  sadness  yet dog grown old less capabl , one day gilli ...\n",
              "2     fear                 get tube train without pay ticket.\n",
              "3     fear  last may sourc consider disquiet one might fir...\n",
              "4    anger  dislik intimaci show toward , resent memori sh..."
            ],
            "text/html": [
              "\n",
              "  <div id=\"df-4ff94784-005d-4bca-9c9a-57010154a70c\">\n",
              "    <div class=\"colab-df-container\">\n",
              "      <div>\n",
              "<style scoped>\n",
              "    .dataframe tbody tr th:only-of-type {\n",
              "        vertical-align: middle;\n",
              "    }\n",
              "\n",
              "    .dataframe tbody tr th {\n",
              "        vertical-align: top;\n",
              "    }\n",
              "\n",
              "    .dataframe thead th {\n",
              "        text-align: right;\n",
              "    }\n",
              "</style>\n",
              "<table border=\"1\" class=\"dataframe\">\n",
              "  <thead>\n",
              "    <tr style=\"text-align: right;\">\n",
              "      <th></th>\n",
              "      <th>Emotion</th>\n",
              "      <th>Text</th>\n",
              "    </tr>\n",
              "  </thead>\n",
              "  <tbody>\n",
              "    <tr>\n",
              "      <th>0</th>\n",
              "      <td>neutral</td>\n",
              "      <td>ton paint think better .</td>\n",
              "    </tr>\n",
              "    <tr>\n",
              "      <th>1</th>\n",
              "      <td>sadness</td>\n",
              "      <td>yet dog grown old less capabl , one day gilli ...</td>\n",
              "    </tr>\n",
              "    <tr>\n",
              "      <th>2</th>\n",
              "      <td>fear</td>\n",
              "      <td>get tube train without pay ticket.</td>\n",
              "    </tr>\n",
              "    <tr>\n",
              "      <th>3</th>\n",
              "      <td>fear</td>\n",
              "      <td>last may sourc consider disquiet one might fir...</td>\n",
              "    </tr>\n",
              "    <tr>\n",
              "      <th>4</th>\n",
              "      <td>anger</td>\n",
              "      <td>dislik intimaci show toward , resent memori sh...</td>\n",
              "    </tr>\n",
              "  </tbody>\n",
              "</table>\n",
              "</div>\n",
              "      <button class=\"colab-df-convert\" onclick=\"convertToInteractive('df-4ff94784-005d-4bca-9c9a-57010154a70c')\"\n",
              "              title=\"Convert this dataframe to an interactive table.\"\n",
              "              style=\"display:none;\">\n",
              "        \n",
              "  <svg xmlns=\"http://www.w3.org/2000/svg\" height=\"24px\"viewBox=\"0 0 24 24\"\n",
              "       width=\"24px\">\n",
              "    <path d=\"M0 0h24v24H0V0z\" fill=\"none\"/>\n",
              "    <path d=\"M18.56 5.44l.94 2.06.94-2.06 2.06-.94-2.06-.94-.94-2.06-.94 2.06-2.06.94zm-11 1L8.5 8.5l.94-2.06 2.06-.94-2.06-.94L8.5 2.5l-.94 2.06-2.06.94zm10 10l.94 2.06.94-2.06 2.06-.94-2.06-.94-.94-2.06-.94 2.06-2.06.94z\"/><path d=\"M17.41 7.96l-1.37-1.37c-.4-.4-.92-.59-1.43-.59-.52 0-1.04.2-1.43.59L10.3 9.45l-7.72 7.72c-.78.78-.78 2.05 0 2.83L4 21.41c.39.39.9.59 1.41.59.51 0 1.02-.2 1.41-.59l7.78-7.78 2.81-2.81c.8-.78.8-2.07 0-2.86zM5.41 20L4 18.59l7.72-7.72 1.47 1.35L5.41 20z\"/>\n",
              "  </svg>\n",
              "      </button>\n",
              "      \n",
              "  <style>\n",
              "    .colab-df-container {\n",
              "      display:flex;\n",
              "      flex-wrap:wrap;\n",
              "      gap: 12px;\n",
              "    }\n",
              "\n",
              "    .colab-df-convert {\n",
              "      background-color: #E8F0FE;\n",
              "      border: none;\n",
              "      border-radius: 50%;\n",
              "      cursor: pointer;\n",
              "      display: none;\n",
              "      fill: #1967D2;\n",
              "      height: 32px;\n",
              "      padding: 0 0 0 0;\n",
              "      width: 32px;\n",
              "    }\n",
              "\n",
              "    .colab-df-convert:hover {\n",
              "      background-color: #E2EBFA;\n",
              "      box-shadow: 0px 1px 2px rgba(60, 64, 67, 0.3), 0px 1px 3px 1px rgba(60, 64, 67, 0.15);\n",
              "      fill: #174EA6;\n",
              "    }\n",
              "\n",
              "    [theme=dark] .colab-df-convert {\n",
              "      background-color: #3B4455;\n",
              "      fill: #D2E3FC;\n",
              "    }\n",
              "\n",
              "    [theme=dark] .colab-df-convert:hover {\n",
              "      background-color: #434B5C;\n",
              "      box-shadow: 0px 1px 3px 1px rgba(0, 0, 0, 0.15);\n",
              "      filter: drop-shadow(0px 1px 2px rgba(0, 0, 0, 0.3));\n",
              "      fill: #FFFFFF;\n",
              "    }\n",
              "  </style>\n",
              "\n",
              "      <script>\n",
              "        const buttonEl =\n",
              "          document.querySelector('#df-4ff94784-005d-4bca-9c9a-57010154a70c button.colab-df-convert');\n",
              "        buttonEl.style.display =\n",
              "          google.colab.kernel.accessAllowed ? 'block' : 'none';\n",
              "\n",
              "        async function convertToInteractive(key) {\n",
              "          const element = document.querySelector('#df-4ff94784-005d-4bca-9c9a-57010154a70c');\n",
              "          const dataTable =\n",
              "            await google.colab.kernel.invokeFunction('convertToInteractive',\n",
              "                                                     [key], {});\n",
              "          if (!dataTable) return;\n",
              "\n",
              "          const docLinkHtml = 'Like what you see? Visit the ' +\n",
              "            '<a target=\"_blank\" href=https://colab.research.google.com/notebooks/data_table.ipynb>data table notebook</a>'\n",
              "            + ' to learn more about interactive tables.';\n",
              "          element.innerHTML = '';\n",
              "          dataTable['output_type'] = 'display_data';\n",
              "          await google.colab.output.renderOutput(dataTable, element);\n",
              "          const docLink = document.createElement('div');\n",
              "          docLink.innerHTML = docLinkHtml;\n",
              "          element.appendChild(docLink);\n",
              "        }\n",
              "      </script>\n",
              "    </div>\n",
              "  </div>\n",
              "  "
            ]
          },
          "metadata": {},
          "execution_count": 13
        }
      ]
    },
    {
      "cell_type": "code",
      "source": [
        "train_data.to_csv(\"drive/My Drive/Data/ISEAR/pre_processsed_data_train.csv\")\n",
        "test_data.to_csv(\"drive/My Drive/Data/ISEAR/pre_processsed_data_test.csv\")"
      ],
      "metadata": {
        "id": "PfLY5v58hcQp"
      },
      "execution_count": null,
      "outputs": []
    },
    {
      "cell_type": "code",
      "source": [
        "import pandas as pd\n",
        "train_data = pd.read_csv('drive/My Drive/Data/ISEAR/pre_processsed_data_train.csv')\n",
        "test_data = pd.read_csv('drive/My Drive/Data/ISEAR/pre_processsed_data_test.csv')"
      ],
      "metadata": {
        "id": "wXLLRfNqe2tB"
      },
      "execution_count": null,
      "outputs": []
    },
    {
      "cell_type": "code",
      "source": [
        "from sklearn import preprocessing,metrics,linear_model"
      ],
      "metadata": {
        "id": "S2oRbKalnl23"
      },
      "execution_count": null,
      "outputs": []
    },
    {
      "cell_type": "code",
      "source": [
        "object = preprocessing.LabelEncoder()\n",
        "ytrain = object.fit_transform(train_data['Emotion'])\n",
        "ytest = object.fit_transform(test_data['Emotion'])"
      ],
      "metadata": {
        "id": "BAL89SYtnl54"
      },
      "execution_count": null,
      "outputs": []
    },
    {
      "cell_type": "code",
      "source": [
        "from sklearn.feature_extraction.text import TfidfVectorizer"
      ],
      "metadata": {
        "id": "NB9g3WbhnmAh"
      },
      "execution_count": null,
      "outputs": []
    },
    {
      "cell_type": "code",
      "source": [
        "tv = TfidfVectorizer()\n",
        "tv.fit(train_data.Text)\n",
        "tv_xtrain =  tv.transform(train_data.Text)\n",
        "tv_xtest =  tv.transform(test_data.Text)"
      ],
      "metadata": {
        "id": "k7b_oEZanmD7"
      },
      "execution_count": null,
      "outputs": []
    },
    {
      "cell_type": "code",
      "source": [
        "import torch\n",
        "from torch.utils.data import Dataset, DataLoader\n",
        "import numpy as np\n",
        "import torch.nn as nn\n",
        "from torch.nn import functional as F\n",
        "import torch.optim as optim"
      ],
      "metadata": {
        "id": "gHbM6QfQsRlT"
      },
      "execution_count": null,
      "outputs": []
    },
    {
      "cell_type": "code",
      "source": [
        "class Dataset(Dataset):\n",
        "    def __init__(self,x_train,y_train):\n",
        "        self.x = torch.Tensor(x_train)\n",
        "        self.y = torch.from_numpy(y_train)\n",
        "\n",
        "    def __len__(self):\n",
        "        return len(self.x)\n",
        "\n",
        "    def __getitem__(self, idx):\n",
        "        return self.x[idx], self.y[idx]"
      ],
      "metadata": {
        "id": "gsOHw2EsnmHF"
      },
      "execution_count": null,
      "outputs": []
    },
    {
      "cell_type": "code",
      "source": [
        "class Classifier(nn.Module):\n",
        "    def __init__(self,in_features,num_classes):\n",
        "        super(Classifier, self).__init__()\n",
        "        self.fc1 = nn.Linear(in_features=in_features,out_features=in_features)\n",
        "        self.fc2 = nn.Linear(in_features=in_features,out_features=num_classes)\n",
        "\n",
        "    def forward(self, x,apply_softmax=False):\n",
        "        y_out = F.relu(self.fc1(x))\n",
        "        y_out = self.fc2(y_out)\n",
        "        if apply_softmax:\n",
        "            y_out = F.softmax(y_out, dim=1)\n",
        "        return y_out"
      ],
      "metadata": {
        "id": "nEUjiQkqnmMN"
      },
      "execution_count": null,
      "outputs": []
    },
    {
      "cell_type": "code",
      "source": [
        "modelPred=model.predict(tv_xtrain)\n",
        "print(metrics.accuracy_score(modelPred, ytrain))"
      ],
      "metadata": {
        "colab": {
          "base_uri": "https://localhost:8080/"
        },
        "id": "b0702J877_lm",
        "outputId": "90b73e6c-0974-4243-e5f6-48731261b7ad"
      },
      "execution_count": null,
      "outputs": [
        {
          "output_type": "stream",
          "name": "stdout",
          "text": [
            "0.8531635996975044\n"
          ]
        }
      ]
    },
    {
      "cell_type": "code",
      "source": [
        "tv_xtrain = tv_xtrain.toarray()\n",
        "tv_xtest = tv_xtest.toarray()"
      ],
      "metadata": {
        "id": "HtQqXL7lHmrS"
      },
      "execution_count": null,
      "outputs": []
    },
    {
      "cell_type": "code",
      "source": [
        "torch.from_numpy(ytrain)"
      ],
      "metadata": {
        "colab": {
          "base_uri": "https://localhost:8080/"
        },
        "id": "VqWE3-lPIqDP",
        "outputId": "7a6fc036-dff6-4cf3-ab45-c43aa2d99684"
      },
      "execution_count": null,
      "outputs": [
        {
          "output_type": "execute_result",
          "data": {
            "text/plain": [
              "tensor([3, 4, 1,  ..., 4, 1, 0])"
            ]
          },
          "metadata": {},
          "execution_count": 138
        }
      ]
    },
    {
      "cell_type": "code",
      "source": [
        "train_dataset = Dataset(tv_xtrain,ytrain)\n",
        "test_dataset = Dataset(tv_xtest,ytest)\n",
        "train_dataloader = DataLoader(train_dataset, batch_size=128, shuffle=True,drop_last=True)\n",
        "test_dataloader = DataLoader(test_dataset, batch_size=128, shuffle=True,drop_last=True)"
      ],
      "metadata": {
        "id": "cAZDHO-PvRfA"
      },
      "execution_count": null,
      "outputs": []
    },
    {
      "cell_type": "code",
      "source": [
        "tv_xtrain.shape"
      ],
      "metadata": {
        "colab": {
          "base_uri": "https://localhost:8080/"
        },
        "id": "MzXPRxfeG8Io",
        "outputId": "5d0462cd-acb2-4649-890e-1c5ac7704c84"
      },
      "execution_count": null,
      "outputs": [
        {
          "output_type": "execute_result",
          "data": {
            "text/plain": [
              "(7934, 7408)"
            ]
          },
          "metadata": {},
          "execution_count": 113
        }
      ]
    },
    {
      "cell_type": "code",
      "source": [
        "classifier = Classifier(7408,7)\n",
        "loss_func = nn.CrossEntropyLoss()\n",
        "optimizer = optim.Adam(classifier.parameters(), lr=0.001)\n",
        "scheduler = optim.lr_scheduler.ReduceLROnPlateau(optimizer=optimizer,\n",
        "                                           mode='min', factor=0.5,\n",
        "                                           patience=1)"
      ],
      "metadata": {
        "id": "MxVghaw07NK7"
      },
      "execution_count": null,
      "outputs": []
    },
    {
      "cell_type": "code",
      "source": [
        "def compute_accuracy(y_pred, y_target):\n",
        "    _, y_pred_indices = y_pred.max(dim=1)\n",
        "    n_correct = torch.eq(y_pred_indices, y_target).sum().item()\n",
        "    return n_correct / len(y_pred_indices) * 100"
      ],
      "metadata": {
        "id": "-UlZHEJR-JNS"
      },
      "execution_count": null,
      "outputs": []
    },
    {
      "cell_type": "code",
      "source": [
        "train_loss= []\n",
        "train_acc = []\n",
        "num_epochs = 2\n",
        "for epoch in range(num_epochs):\n",
        "  running_loss = 0.0\n",
        "  running_acc = 0.0\n",
        "  classifier.train()\n",
        "  for x,y in train_dataloader:\n",
        "    #zero the gradients\n",
        "    optimizer.zero_grad()\n",
        "\n",
        "    #compute the output\n",
        "    y_pred = classifier(x)\n",
        "\n",
        "    #compute the loss\n",
        "    loss = loss_func(y_pred, y)\n",
        "\n",
        "    #use loss to produce gradients\n",
        "    loss.backward()\n",
        "\n",
        "    #use optimizer to take gradient step\n",
        "    optimizer.step()\n",
        "    \n",
        "    # compute the accuracy\n",
        "    acc_t = compute_accuracy(y_pred, y)\n",
        "    "
      ],
      "metadata": {
        "id": "cJ-louwR7BN5"
      },
      "execution_count": null,
      "outputs": []
    },
    {
      "cell_type": "code",
      "source": [
        "acc_t"
      ],
      "metadata": {
        "colab": {
          "base_uri": "https://localhost:8080/"
        },
        "id": "Oo9cnCaU7Pjl",
        "outputId": "fcf43c3f-5baa-4c0d-d364-5ca55e616839"
      },
      "execution_count": null,
      "outputs": [
        {
          "output_type": "execute_result",
          "data": {
            "text/plain": [
              "84.375"
            ]
          },
          "metadata": {},
          "execution_count": 30
        }
      ]
    },
    {
      "cell_type": "code",
      "source": [
        "running_loss = 0.0\n",
        "running_acc = 0.0\n",
        "classifier.eval()\n",
        "\n",
        "for batch_index, (x,y) in enumerate(test_dataloader):\n",
        "  # compute the output\n",
        "  y_pred =  classifier(x)\n",
        "  \n",
        "  # compute the loss\n",
        "  loss = loss_func(y_pred, y)\n",
        "  loss_t = loss.item()\n",
        "  running_loss += (loss_t - running_loss) / (batch_index + 1)\n",
        "\n",
        "  # compute the accuracy\n",
        "  acc_t = compute_accuracy(y_pred, y)\n",
        "  running_acc += (acc_t - running_acc) / (batch_index + 1)"
      ],
      "metadata": {
        "id": "d_FH55t8Q89T"
      },
      "execution_count": null,
      "outputs": []
    },
    {
      "cell_type": "code",
      "source": [
        "running_acc"
      ],
      "metadata": {
        "colab": {
          "base_uri": "https://localhost:8080/"
        },
        "id": "MVU18u3C7dId",
        "outputId": "07b94290-7367-4ca6-9486-4c5ad57ca09c"
      },
      "execution_count": null,
      "outputs": [
        {
          "output_type": "execute_result",
          "data": {
            "text/plain": [
              "67.96875"
            ]
          },
          "metadata": {},
          "execution_count": 32
        }
      ]
    }
  ]
}